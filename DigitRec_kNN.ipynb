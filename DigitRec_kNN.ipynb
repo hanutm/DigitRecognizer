{
  "nbformat": 4,
  "nbformat_minor": 0,
  "metadata": {
    "colab": {
      "name": "DigitRec_kNN.ipynb",
      "version": "0.3.2",
      "provenance": [],
      "include_colab_link": true
    },
    "kernelspec": {
      "name": "python3",
      "display_name": "Python 3"
    }
  },
  "cells": [
    {
      "cell_type": "markdown",
      "metadata": {
        "id": "view-in-github",
        "colab_type": "text"
      },
      "source": [
        "<a href=\"https://colab.research.google.com/github/hanutm/DigitRecognizer/blob/master/DigitRec_kNN.ipynb\" target=\"_parent\"><img src=\"https://colab.research.google.com/assets/colab-badge.svg\" alt=\"Open In Colab\"/></a>"
      ]
    },
    {
      "metadata": {
        "id": "hTDlozA-ksSF",
        "colab_type": "code",
        "colab": {}
      },
      "cell_type": "code",
      "source": [
        "import pandas as pd\n",
        "import numpy as np\n",
        "import matplotlib.pyplot as plt"
      ],
      "execution_count": 0,
      "outputs": []
    },
    {
      "metadata": {
        "id": "WsVfGeY8BvJV",
        "colab_type": "code",
        "colab": {}
      },
      "cell_type": "code",
      "source": [
        "def generate_centres(X):\n",
        "  centres = list()\n",
        "  classes = sorted(list(X.label.unique()))\n",
        "  for i in classes:\n",
        "    df_class = X.loc[X.label == i]\n",
        "    df_class = df_class.iloc[:,1:]\n",
        "    centres.append(df_class.mean(axis=0))\n",
        "  return(centres)"
      ],
      "execution_count": 0,
      "outputs": []
    },
    {
      "metadata": {
        "id": "QPYUruWeBXL3",
        "colab_type": "code",
        "colab": {}
      },
      "cell_type": "code",
      "source": [
        "def check_digit(img):                     #### Plotting individual pixel information\n",
        "  img = 255 - np.reshape(img,(28,28))   #### Reshape into a square grid, and invert image\n",
        "  plt.imshow(img)\n",
        "  plt.show()"
      ],
      "execution_count": 0,
      "outputs": []
    },
    {
      "metadata": {
        "id": "6BggEYhrHyWo",
        "colab_type": "code",
        "colab": {}
      },
      "cell_type": "code",
      "source": [
        "df = pd.read_csv(\"train.csv\")\n",
        "df_test = pd.read_csv(\"test.csv\")"
      ],
      "execution_count": 0,
      "outputs": []
    },
    {
      "metadata": {
        "id": "CmPXtFpFHyT0",
        "colab_type": "code",
        "colab": {}
      },
      "cell_type": "code",
      "source": [
        "kNN = generate_centres(df)\n",
        "predicted = predict_label(df_test)"
      ],
      "execution_count": 0,
      "outputs": []
    },
    {
      "metadata": {
        "id": "npRsbzXJOL1s",
        "colab_type": "code",
        "colab": {
          "base_uri": "https://localhost:8080/",
          "height": 401
        },
        "outputId": "66224e21-f145-4ba5-8228-bdb43f373124"
      },
      "cell_type": "code",
      "source": [
        "check_digit(df_test.iloc[20])"
      ],
      "execution_count": 134,
      "outputs": [
        {
          "output_type": "stream",
          "text": [
            "/usr/local/lib/python3.6/dist-packages/numpy/core/fromnumeric.py:52: FutureWarning: reshape is deprecated and will raise in a subsequent release. Please use .values.reshape(...) instead\n",
            "  return getattr(obj, method)(*args, **kwds)\n"
          ],
          "name": "stderr"
        },
        {
          "output_type": "display_data",
          "data": {
            "image/png": "[encoded data removed]",
            "text/plain": [
              "<Figure size 576x396 with 1 Axes>"
            ]
          },
          "metadata": {
            "tags": []
          }
        }
      ]
    },
    {
      "metadata": {
        "id": "o_lgNlfHHW77",
        "colab_type": "code",
        "colab": {
          "base_uri": "https://localhost:8080/",
          "height": 357
        },
        "outputId": "c46ef5cb-f9f2-4153-9f25-28fbb1cd85c5"
      },
      "cell_type": "code",
      "source": [
        "for i in range(0,10):\n",
        "  print(i)\n",
        "  print(np.dot(kNN[i],df_test.iloc[20]))"
      ],
      "execution_count": 135,
      "outputs": [
        {
          "output_type": "stream",
          "text": [
            "0\n",
            "2513932.3482575025\n",
            "1\n",
            "1265809.3552519213\n",
            "2\n",
            "2144287.094804884\n",
            "3\n",
            "2323309.6867386806\n",
            "4\n",
            "2680910.9884577603\n",
            "5\n",
            "2122211.266403162\n",
            "6\n",
            "2145609.0113608893\n",
            "7\n",
            "2589484.8220858895\n",
            "8\n",
            "2603101.4211174008\n",
            "9\n",
            "3087930.058500477\n"
          ],
          "name": "stdout"
        }
      ]
    }
  ]
}