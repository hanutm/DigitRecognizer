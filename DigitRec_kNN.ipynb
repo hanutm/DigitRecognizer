{
  "nbformat": 4,
  "nbformat_minor": 0,
  "metadata": {
    "colab": {
      "name": "DigitRec_kNN.ipynb",
      "version": "0.3.2",
      "provenance": [],
      "collapsed_sections": [],
      "include_colab_link": true
    },
    "kernelspec": {
      "name": "python3",
      "display_name": "Python 3"
    }
  },
  "cells": [
    {
      "cell_type": "markdown",
      "metadata": {
        "id": "view-in-github",
        "colab_type": "text"
      },
      "source": [
        "<a href=\"https://colab.research.google.com/github/hanutm/DigitRecognizer/blob/master/DigitRec_kNN.ipynb\" target=\"_parent\"><img src=\"https://colab.research.google.com/assets/colab-badge.svg\" alt=\"Open In Colab\"/></a>"
      ]
    },
    {
      "metadata": {
        "id": "hTDlozA-ksSF",
        "colab_type": "code",
        "colab": {
          "base_uri": "https://localhost:8080/",
          "height": 54
        },
        "outputId": "30a08572-2e77-4e73-c1e6-e9923c512fd1"
      },
      "cell_type": "code",
      "source": [
        "import pandas as pd\n",
        "import numpy as np\n",
        "import matplotlib.pyplot as plt\n",
        "import math\n",
        "from google.colab import drive\n",
        "from sklearn.model_selection import train_test_split\n",
        "from sklearn.metrics import accuracy_score\n",
        "drive.mount('/content/drive')\n",
        "from scipy.spatial import distance"
      ],
      "execution_count": 38,
      "outputs": [
        {
          "output_type": "stream",
          "text": [
            "Drive already mounted at /content/drive; to attempt to forcibly remount, call drive.mount(\"/content/drive\", force_remount=True).\n"
          ],
          "name": "stdout"
        }
      ]
    },
    {
      "metadata": {
        "id": "WsVfGeY8BvJV",
        "colab_type": "code",
        "colab": {}
      },
      "cell_type": "code",
      "source": [
        "####################################\n",
        "### Generate Centres for classes ###\n",
        "####################################\n",
        "\n",
        "def generate_centres(X):\n",
        "  centres = list()\n",
        "  classes = sorted(list(X.label.unique()))\n",
        "  for i in classes:\n",
        "    df_class = X.loc[X.label == i]\n",
        "    df_class = df_class.iloc[:,df.columns != \"label\"]\n",
        "    centres.append(df_class.mean(axis=0))\n",
        "  return(centres)"
      ],
      "execution_count": 0,
      "outputs": []
    },
    {
      "metadata": {
        "id": "lAbeMMqi1Dkd",
        "colab_type": "code",
        "colab": {}
      },
      "cell_type": "code",
      "source": [
        "###############################################\n",
        "### Generate Normalized Centres for classes ###\n",
        "###############################################\n",
        "\n",
        "def generate_normalized_centres(X):\n",
        "  centres = list()\n",
        "  classes = sorted(list(X.label.unique()))\n",
        "  for i in classes:\n",
        "    df_class = X.loc[X.label == i]\n",
        "    df_class = df_class.iloc[:,1:]\n",
        "    centroid = df_class.mean(axis=0)*df_class.std(axis=0)\n",
        "    centres.append(list(np.nan_to_num(centroid)))\n",
        "  return(centres)"
      ],
      "execution_count": 0,
      "outputs": []
    },
    {
      "metadata": {
        "id": "QPYUruWeBXL3",
        "colab_type": "code",
        "colab": {}
      },
      "cell_type": "code",
      "source": [
        "#########################################\n",
        "### Convert and view data as an image ###\n",
        "#########################################\n",
        "def check_digit(img):                    \n",
        "  img = 255 - np.reshape(img,(28,28))   #### Reshape into a square grid, and invert image\n",
        "  plt.imshow(img)\n",
        "  plt.show()"
      ],
      "execution_count": 0,
      "outputs": []
    },
    {
      "metadata": {
        "id": "o_lgNlfHHW77",
        "colab_type": "code",
        "colab": {}
      },
      "cell_type": "code",
      "source": [
        "##############################################\n",
        "### Prediction based on Euclidean Distance ###\n",
        "##############################################\n",
        "\n",
        "def pred_euclidean(X,centre):\n",
        "  labels = pd.Series(np.zeros(len(X)))\n",
        "  for j in range(0,len(X)):\n",
        "    dist = list()\n",
        "    for i in range(0,10):\n",
        "      distance = np.dot(centre[i],X.iloc[j])\n",
        "      dist.append(distance)\n",
        "    labels[j] = np.argmax(dist)\n",
        "  return labels"
      ],
      "execution_count": 0,
      "outputs": []
    },
    {
      "metadata": {
        "id": "6UfzFJj2YJrY",
        "colab_type": "code",
        "colab": {}
      },
      "cell_type": "code",
      "source": [
        "#############################################\n",
        "### Prediction based on Cosine Similarity ###\n",
        "#############################################\n",
        "\n",
        "def pred_cosine(X,centre):\n",
        "  labels = pd.Series(np.zeros(len(X)))\n",
        "  for j in range(0,len(X)):\n",
        "    dist = list()\n",
        "    for i in range(0,10):\n",
        "      dot = np.dot(centre[i],X.iloc[j])\n",
        "      a = np.linalg.norm(centre[i])\n",
        "      b = np.linalg.norm(X.iloc[j])\n",
        "      ang = math.acos(dot/(a*b))\n",
        "      dist.append(ang)\n",
        "    labels[j] = np.argmin(dist)\n",
        "  return labels"
      ],
      "execution_count": 0,
      "outputs": []
    },
    {
      "metadata": {
        "id": "95OMPS6IuG2M",
        "colab_type": "code",
        "colab": {}
      },
      "cell_type": "code",
      "source": [
        "# print(pred_cosine(df_test.iloc[0:5]))"
      ],
      "execution_count": 0,
      "outputs": []
    },
    {
      "metadata": {
        "id": "zbDyV5cVVHwL",
        "colab_type": "code",
        "colab": {}
      },
      "cell_type": "code",
      "source": [
        "################################################\n",
        "### Prediction based on Mahalanobis Distance ###\n",
        "################################################\n",
        "\n",
        "## Does not work because of singular cov-matrices\n",
        "\n",
        "for i in range(0,10):                ## mahalanobis distance\n",
        "  print(i)\n",
        "  dfI = df[df.label == i]\n",
        "  dfI = dfI.iloc[:,df.columns != \"label\"]\n",
        "  cov = dfI.cov()\n",
        "#   iv = np.linalg.inv(cov)\n",
        "#   distance.mahalanobis(kNN[i],df_test.iloc[120],iv)\n",
        "#   print(i)\n",
        "#   print(distance)\n",
        "  "
      ],
      "execution_count": 0,
      "outputs": []
    },
    {
      "metadata": {
        "id": "6BggEYhrHyWo",
        "colab_type": "code",
        "colab": {}
      },
      "cell_type": "code",
      "source": [
        "df = pd.read_csv(\"/content/drive/My Drive/Datasets/Digit Recognisation/train.csv\")\n",
        "df_test = pd.read_csv(\"/content/drive/My Drive/Datasets/Digit Recognisation/test.csv\")"
      ],
      "execution_count": 0,
      "outputs": []
    },
    {
      "metadata": {
        "id": "3p9q_eT7ya6d",
        "colab_type": "code",
        "colab": {
          "base_uri": "https://localhost:8080/",
          "height": 731
        },
        "outputId": "e15d6df0-e62d-46d7-a9d8-bcbe65dc33f1"
      },
      "cell_type": "code",
      "source": [
        "#### To check distribution in training dataset ###\n",
        "\n",
        "plt.hist(df.label,10)\n",
        "plt.show()\n",
        "\n",
        "####\n",
        "\n",
        "check_digit(df_test.iloc[4]) ### Visualizing individual row to understand setup of data"
      ],
      "execution_count": 46,
      "outputs": [
        {
          "output_type": "display_data",
          "data": {
            "image/png": "[encoded data removed]",
            "text/plain": [
              "<Figure size 576x396 with 1 Axes>"
            ]
          },
          "metadata": {
            "tags": []
          }
        },
        {
          "output_type": "stream",
          "text": [
            "/usr/local/lib/python3.6/dist-packages/numpy/core/fromnumeric.py:52: FutureWarning: reshape is deprecated and will raise in a subsequent release. Please use .values.reshape(...) instead\n",
            "  return getattr(obj, method)(*args, **kwds)\n"
          ],
          "name": "stderr"
        },
        {
          "output_type": "display_data",
          "data": {
            "image/png": "[encoded data removed]",
            "text/plain": [
              "<Figure size 576x396 with 1 Axes>"
            ]
          },
          "metadata": {
            "tags": []
          }
        }
      ]
    },
    {
      "metadata": {
        "id": "WCjJ0w8A3Ln7",
        "colab_type": "code",
        "colab": {}
      },
      "cell_type": "code",
      "source": [
        "### Train-test-split method ###\n",
        "X_train, X_test, y_train, y_test = train_test_split(df.iloc[:,1:],df.iloc[:,0],test_size = .33, random_state = 53)\n",
        "\n",
        "X_train = X_train.assign(label = y_train)\n",
        "Centroids = generate_centres(X_train)\n",
        "nCentroids = generate_normalized_centres(X_train)"
      ],
      "execution_count": 0,
      "outputs": []
    },
    {
      "metadata": {
        "id": "CmPXtFpFHyT0",
        "colab_type": "code",
        "colab": {}
      },
      "cell_type": "code",
      "source": [
        "Euc = pred_euclidean(X_test,Centroids)\n",
        "nEuc = pred_euclidean(X_test,nCentroids)\n",
        "Cos = pred_cosine(X_test,Centroids)\n",
        "nCos = pred_cosine(X_test,nCentroids)"
      ],
      "execution_count": 0,
      "outputs": []
    },
    {
      "metadata": {
        "id": "03yv-9ZG97wy",
        "colab_type": "code",
        "colab": {
          "base_uri": "https://localhost:8080/",
          "height": 85
        },
        "outputId": "b4b2682b-4d3a-405d-dee3-e339e0e6ac16"
      },
      "cell_type": "code",
      "source": [
        "print(accuracy_score(y_test,Euc))\n",
        "print(accuracy_score(y_test,nEuc))\n",
        "print(accuracy_score(y_test,Cos))\n",
        "print(accuracy_score(y_test,nCos))"
      ],
      "execution_count": 45,
      "outputs": [
        {
          "output_type": "stream",
          "text": [
            "0.5367243867243867\n",
            "0.5057720057720058\n",
            "0.7830447330447331\n",
            "0.7717171717171717\n"
          ],
          "name": "stdout"
        }
      ]
    }
  ]
}