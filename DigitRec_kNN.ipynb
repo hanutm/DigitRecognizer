{
  "nbformat": 4,
  "nbformat_minor": 0,
  "metadata": {
    "colab": {
      "name": "DigitRec_kNN.ipynb",
      "version": "0.3.2",
      "provenance": [],
      "collapsed_sections": [],
      "include_colab_link": true
    },
    "kernelspec": {
      "name": "python3",
      "display_name": "Python 3"
    }
  },
  "cells": [
    {
      "cell_type": "markdown",
      "metadata": {
        "id": "view-in-github",
        "colab_type": "text"
      },
      "source": [
        "<a href=\"https://colab.research.google.com/github/hanutm/DigitRecognizer/blob/master/DigitRec_kNN.ipynb\" target=\"_parent\"><img src=\"https://colab.research.google.com/assets/colab-badge.svg\" alt=\"Open In Colab\"/></a>"
      ]
    },
    {
      "metadata": {
        "id": "hTDlozA-ksSF",
        "colab_type": "code",
        "colab": {}
      },
      "cell_type": "code",
      "source": [
        "import pandas as pd\n",
        "import numpy as np\n",
        "import matplotlib.pyplot as plt\n",
        "import math\n",
        "from google.colab import drive\n",
        "drive.mount('/content/drive')\n",
        "from scipy.spatial import distance"
      ],
      "execution_count": 0,
      "outputs": []
    },
    {
      "metadata": {
        "id": "WsVfGeY8BvJV",
        "colab_type": "code",
        "colab": {}
      },
      "cell_type": "code",
      "source": [
        "####################################\n",
        "### Generate Centres for classes ###\n",
        "####################################\n",
        "\n",
        "def generate_centres(X):\n",
        "  centres = list()\n",
        "  classes = sorted(list(X.label.unique()))\n",
        "  for i in classes:\n",
        "    df_class = X.loc[X.label == i]\n",
        "    df_class = df_class.iloc[:,1:]\n",
        "    centres.append(df_class.mean(axis=0))\n",
        "  return(centres)"
      ],
      "execution_count": 0,
      "outputs": []
    },
    {
      "metadata": {
        "id": "lAbeMMqi1Dkd",
        "colab_type": "code",
        "colab": {}
      },
      "cell_type": "code",
      "source": [
        "###############################################\n",
        "### Generate Normalized Centres for classes ###\n",
        "###############################################\n",
        "\n",
        "def generate_normalized_centres(X):\n",
        "  centres = list()\n",
        "  classes = sorted(list(X.label.unique()))\n",
        "  for i in classes:\n",
        "    df_class = X.loc[X.label == i]\n",
        "    df_class = df_class.iloc[:,1:]\n",
        "    centres.append(df_class.mean(axis=0)*df_class.std(axis=0))\n",
        "  return(centres)"
      ],
      "execution_count": 0,
      "outputs": []
    },
    {
      "metadata": {
        "id": "QPYUruWeBXL3",
        "colab_type": "code",
        "colab": {}
      },
      "cell_type": "code",
      "source": [
        "#########################################\n",
        "### Convert and view data as an image ###\n",
        "#########################################\n",
        "def check_digit(img):                    \n",
        "  img = 255 - np.reshape(img,(28,28))   #### Reshape into a square grid, and invert image\n",
        "  plt.imshow(img)\n",
        "  plt.show()"
      ],
      "execution_count": 0,
      "outputs": []
    },
    {
      "metadata": {
        "id": "o_lgNlfHHW77",
        "colab_type": "code",
        "colab": {}
      },
      "cell_type": "code",
      "source": [
        "##############################################\n",
        "### Prediction based on Euclidean Distance ###\n",
        "##############################################\n",
        "\n",
        "def pred_euclidean(X):\n",
        "  labels = pd.Series(np.zeros(len(X)))\n",
        "  for j in range(0,len(X)):\n",
        "    dist = list()\n",
        "    for i in range(0,10):\n",
        "      distance = np.dot(kNN[i],X.iloc[j])\n",
        "      dist.append(distance)\n",
        "    labels[j] = np.argmax(dist)\n",
        "  return labels"
      ],
      "execution_count": 0,
      "outputs": []
    },
    {
      "metadata": {
        "id": "6UfzFJj2YJrY",
        "colab_type": "code",
        "colab": {}
      },
      "cell_type": "code",
      "source": [
        "#############################################\n",
        "### Prediction based on Cosine Similarity ###\n",
        "#############################################\n",
        "\n",
        "def pred_cosine(X):\n",
        "  labels = pd.Series(np.zeros(len(X)))\n",
        "  for j in range(0,len(X)):\n",
        "    dist = list()\n",
        "    for i in range(0,10):\n",
        "      dot = np.dot(kNN[i],X.iloc[j])\n",
        "      a = np.linalg.norm(kNN[i])\n",
        "      b = np.linalg.norm(X.iloc[j])\n",
        "      ang = math.acos(dot/(a*b))\n",
        "      dist.append(ang)\n",
        "    labels[j] = np.argmin(dist)\n",
        "  return labels"
      ],
      "execution_count": 0,
      "outputs": []
    },
    {
      "metadata": {
        "id": "95OMPS6IuG2M",
        "colab_type": "code",
        "colab": {}
      },
      "cell_type": "code",
      "source": [
        "# print(pred_cosine(df_test.iloc[0:5]))"
      ],
      "execution_count": 0,
      "outputs": []
    },
    {
      "metadata": {
        "id": "zbDyV5cVVHwL",
        "colab_type": "code",
        "colab": {}
      },
      "cell_type": "code",
      "source": [
        "################################################\n",
        "### Prediction based on Mahalanobis Distance ###\n",
        "################################################\n",
        "\n",
        "## Does not work because of singular cov-matrices\n",
        "\n",
        "for i in range(0,10):                ## mahalanobis distance\n",
        "  print(i)\n",
        "  dfI = df[df.label == i]\n",
        "  dfI = dfI.iloc[:,df.columns != \"label\"]\n",
        "  cov = dfI.cov()\n",
        "#   iv = np.linalg.inv(cov)\n",
        "#   distance.mahalanobis(kNN[i],df_test.iloc[120],iv)\n",
        "#   print(i)\n",
        "#   print(distance)\n",
        "  "
      ],
      "execution_count": 0,
      "outputs": []
    },
    {
      "metadata": {
        "id": "6BggEYhrHyWo",
        "colab_type": "code",
        "colab": {}
      },
      "cell_type": "code",
      "source": [
        "df = pd.read_csv(\"/content/drive/My Drive/Datasets/Digit Recognisation/train.csv\")\n",
        "df_test = pd.read_csv(\"/content/drive/My Drive/Datasets/Digit Recognisation/test.csv\")"
      ],
      "execution_count": 0,
      "outputs": []
    },
    {
      "metadata": {
        "id": "3p9q_eT7ya6d",
        "colab_type": "code",
        "colab": {}
      },
      "cell_type": "code",
      "source": [
        "#### To check distribution in training dataset ###\n",
        "plt.hist(df.label,10)\n",
        "plt.show()"
      ],
      "execution_count": 0,
      "outputs": []
    },
    {
      "metadata": {
        "id": "JriE3FpjQFfw",
        "colab_type": "code",
        "colab": {}
      },
      "cell_type": "code",
      "source": [
        "### Visualizing different rows to understand setup of data\n",
        "check_digit(df_test.iloc[4])"
      ],
      "execution_count": 0,
      "outputs": []
    },
    {
      "metadata": {
        "id": "CmPXtFpFHyT0",
        "colab_type": "code",
        "colab": {
          "base_uri": "https://localhost:8080/",
          "height": 34
        },
        "outputId": "1b75db0c-2c36-4b5e-a0ee-3b553a7fc5d5"
      },
      "cell_type": "code",
      "source": [
        "kNN = generate_centres(df)\n",
        "kNN1 = generate_normalized_centres(df)\n",
        "kNN1 = list(np.nan_to_num(kNN1))"
      ],
      "execution_count": 73,
      "outputs": [
        {
          "output_type": "execute_result",
          "data": {
            "text/plain": [
              "42000"
            ]
          },
          "metadata": {
            "tags": []
          },
          "execution_count": 73
        }
      ]
    },
    {
      "metadata": {
        "id": "a6oKcy-GQkwQ",
        "colab_type": "text"
      },
      "cell_type": "markdown",
      "source": [
        "To compare centres created by different methods."
      ]
    }
  ]
}